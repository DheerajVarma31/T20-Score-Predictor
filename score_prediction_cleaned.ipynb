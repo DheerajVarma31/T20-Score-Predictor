{
 "cells": [
  {
   "cell_type": "markdown",
   "id": "163f30c2",
   "metadata": {},
   "source": [
    "# Score Prediction Notebook\n",
    "This notebook predicts cricket scores based on input features."
   ]
  },
  {
   "cell_type": "code",
   "execution_count": null,
   "id": "e355e308",
   "metadata": {},
   "outputs": [],
   "source": [
    "import pandas as pd\n",
    "import numpy as np\n",
    "from sklearn.ensemble import RandomForestRegressor\n",
    "from sklearn.model_selection import train_test_split\n",
    "from sklearn.preprocessing import LabelEncoder\n",
    "from sklearn.metrics import mean_squared_error, r2_score\n",
    "import joblib"
   ]
  },
  {
   "cell_type": "markdown",
   "id": "5d7486a1",
   "metadata": {},
   "source": [
    "### Load Dataset"
   ]
  },
  {
   "cell_type": "code",
   "execution_count": null,
   "id": "9a4129fa",
   "metadata": {},
   "outputs": [],
   "source": [
    "# Example: Load preprocessed cricket match data\n",
    "df = pd.read_csv('matches.csv')\n",
    "df.head()"
   ]
  },
  {
   "cell_type": "markdown",
   "id": "cdb89a4b",
   "metadata": {},
   "source": [
    "### Encode Categorical Columns"
   ]
  },
  {
   "cell_type": "code",
   "execution_count": null,
   "id": "55955120",
   "metadata": {},
   "outputs": [],
   "source": [
    "categorical_cols = ['batting_team', 'bowling_team', 'venue']\n",
    "encoders = {}\n",
    "for col in categorical_cols:\n",
    "    enc = LabelEncoder()\n",
    "    df[col] = enc.fit_transform(df[col])\n",
    "    encoders[col] = enc"
   ]
  },
  {
   "cell_type": "markdown",
   "id": "820a3606",
   "metadata": {},
   "source": [
    "### Define Features and Target"
   ]
  },
  {
   "cell_type": "code",
   "execution_count": null,
   "id": "939cea1d",
   "metadata": {},
   "outputs": [],
   "source": [
    "X = df[['batting_team', 'bowling_team', 'venue', 'overs', 'runs', 'wickets']]\n",
    "y = df['total_score']"
   ]
  },
  {
   "cell_type": "markdown",
   "id": "e25505c8",
   "metadata": {},
   "source": [
    "### Train-Test Split and Model Training"
   ]
  },
  {
   "cell_type": "code",
   "execution_count": null,
   "id": "b27dc8e2",
   "metadata": {},
   "outputs": [],
   "source": [
    "X_train, X_test, y_train, y_test = train_test_split(X, y, test_size=0.2, random_state=42)\n",
    "\n",
    "model = RandomForestRegressor(n_estimators=100, random_state=42)\n",
    "model.fit(X_train, y_train)\n",
    "\n",
    "y_pred = model.predict(X_test)\n",
    "print(\"RMSE:\", np.sqrt(mean_squared_error(y_test, y_pred)))\n",
    "print(\"R2 Score:\", r2_score(y_test, y_pred))"
   ]
  },
  {
   "cell_type": "markdown",
   "id": "7d187e89",
   "metadata": {},
   "source": [
    "### Save Model and Encoders"
   ]
  },
  {
   "cell_type": "code",
   "execution_count": null,
   "id": "a974432d",
   "metadata": {},
   "outputs": [],
   "source": [
    "joblib.dump(model, 'score_model.pkl')\n",
    "for col, enc in encoders.items():\n",
    "    joblib.dump(enc, f'{col}_encoder.pkl')"
   ]
  },
  {
   "cell_type": "markdown",
   "id": "32e5d5d3",
   "metadata": {},
   "source": [
    "### Prediction Function Example"
   ]
  },
  {
   "cell_type": "code",
   "execution_count": null,
   "id": "7c600d8c",
   "metadata": {},
   "outputs": [],
   "source": [
    "def predict_score(batting_team, bowling_team, venue, overs, runs, wickets):\n",
    "    bt = encoders['batting_team'].transform([batting_team])[0]\n",
    "    bl = encoders['bowling_team'].transform([bowling_team])[0]\n",
    "    v = encoders['venue'].transform([venue])[0]\n",
    "    X_input = np.array([[bt, bl, v, overs, runs, wickets]])\n",
    "    return model.predict(X_input)[0]\n",
    "\n",
    "# Example prediction\n",
    "predict_score('India', 'Australia', 'Wankhede Stadium', 10, 85, 2)"
   ]
  }
 ],
 "metadata": {},
 "nbformat": 4,
 "nbformat_minor": 5
}
